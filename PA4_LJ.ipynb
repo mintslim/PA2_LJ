{
 "cells": [
  {
   "cell_type": "code",
   "execution_count": 41,
   "id": "c061f3b8",
   "metadata": {},
   "outputs": [
    {
     "name": "stdout",
     "output_type": "stream",
     "text": [
      "['Drake', 'Carti', 'Yg']\n",
      "['Drake', 'Carti', 'Yg', 'Uzi']\n"
     ]
    }
   ],
   "source": [
    "#(1)append adds a new element to the end of a list without affecting the rest\n",
    "\n",
    "artists=['Drake', 'Carti', 'Yg']\n",
    "print(artists)\n",
    "\n",
    "artists.append('Uzi')\n",
    "print(artists)"
   ]
  },
  {
   "cell_type": "code",
   "execution_count": 42,
   "id": "905d23bd",
   "metadata": {},
   "outputs": [
    {
     "name": "stdout",
     "output_type": "stream",
     "text": [
      "['Kodak', 'Drake', 'Carti', 'Yg', 'Uzi']\n"
     ]
    }
   ],
   "source": [
    "#(3)insert adds an element into you list based on the index you specify\n",
    "artists.insert(0, 'Kodak')\n",
    "print(artists)"
   ]
  },
  {
   "cell_type": "code",
   "execution_count": 43,
   "id": "2e2a971c",
   "metadata": {},
   "outputs": [
    {
     "name": "stdout",
     "output_type": "stream",
     "text": [
      "['Kodak', 'Drake', 'Yg', 'Uzi']\n"
     ]
    }
   ],
   "source": [
    "#(4)remove removes an element from a list after you indentify the element\n",
    "#useful for when you are unsure of the index\n",
    "artists.remove('Carti')\n",
    "print(artists)"
   ]
  },
  {
   "cell_type": "code",
   "execution_count": 44,
   "id": "7255bd0b",
   "metadata": {},
   "outputs": [
    {
     "data": {
      "text/plain": [
       "1"
      ]
     },
     "execution_count": 44,
     "metadata": {},
     "output_type": "execute_result"
    }
   ],
   "source": [
    "#(5)count tells you how many of a specified element are on a list\n",
    "\n",
    "artists.count(\"Drake\")\n"
   ]
  },
  {
   "cell_type": "code",
   "execution_count": 35,
   "id": "a1121107",
   "metadata": {},
   "outputs": [
    {
     "data": {
      "text/plain": [
       "0"
      ]
     },
     "execution_count": 35,
     "metadata": {},
     "output_type": "execute_result"
    }
   ],
   "source": [
    "\n",
    "#(6)index tells you the index of a specified element\n",
    "\n",
    "artists.index(\"Drake\")"
   ]
  },
  {
   "cell_type": "code",
   "execution_count": 45,
   "id": "9e9208c4",
   "metadata": {},
   "outputs": [
    {
     "name": "stdout",
     "output_type": "stream",
     "text": [
      "['Kodak', 'Drake', 'Yg']\n",
      "Uzi\n"
     ]
    }
   ],
   "source": [
    "#(7)pop removes the last element of a list, but allows it to still be used\n",
    "#the element is kept by assigning it to a new variable\n",
    "popped_artists=artists.pop()\n",
    "print(artists)\n",
    "print(popped_artists)"
   ]
  },
  {
   "cell_type": "code",
   "execution_count": 48,
   "id": "49859c52",
   "metadata": {},
   "outputs": [
    {
     "name": "stdout",
     "output_type": "stream",
     "text": [
      "Orignial List:\n",
      "['Kodak', 'Drake', 'Yg']\n",
      "Sorted List\n",
      "['Drake', 'Kodak', 'Yg']\n",
      "Original List again\n",
      "['Kodak', 'Drake', 'Yg']\n"
     ]
    }
   ],
   "source": [
    "#(8)sorted allows you to temporarily sort your list but not change it permanently\n",
    "\n",
    "print(\"Orignial List:\")\n",
    "print(artists)\n",
    "\n",
    "print(\"Sorted List\")\n",
    "print(sorted(artists))\n",
    "\n",
    "print(\"Original List again\")\n",
    "print(artists)\n"
   ]
  },
  {
   "cell_type": "code",
   "execution_count": 53,
   "id": "2371b537",
   "metadata": {},
   "outputs": [
    {
     "data": {
      "text/plain": [
       "['Kodak', 'Drake', 'Yg']"
      ]
     },
     "execution_count": 53,
     "metadata": {},
     "output_type": "execute_result"
    }
   ],
   "source": [
    "#(9)copy returns a copy of your list\n",
    "#useful when changing your list temporarily\n",
    "artists.copy()\n"
   ]
  },
  {
   "cell_type": "code",
   "execution_count": 55,
   "id": "f989019d",
   "metadata": {},
   "outputs": [
    {
     "name": "stdout",
     "output_type": "stream",
     "text": [
      "[]\n"
     ]
    }
   ],
   "source": [
    "#(10)clear clears your list\n",
    "\n",
    "artists.clear()\n",
    "print(artists)"
   ]
  },
  {
   "cell_type": "code",
   "execution_count": 56,
   "id": "8c4a0d89",
   "metadata": {},
   "outputs": [
    {
     "data": {
      "text/plain": [
       "[]"
      ]
     },
     "execution_count": 56,
     "metadata": {},
     "output_type": "execute_result"
    }
   ],
   "source": [
    "#(11)list is an alternate way to create a list\n",
    "\n",
    "list()"
   ]
  },
  {
   "cell_type": "code",
   "execution_count": 61,
   "id": "effb80bf",
   "metadata": {},
   "outputs": [
    {
     "data": {
      "text/plain": [
       "3"
      ]
     },
     "execution_count": 61,
     "metadata": {},
     "output_type": "execute_result"
    }
   ],
   "source": [
    "#(12)len tells you the length of \n",
    "artists2=['Drake','Kodak','Yg']\n",
    "len(artists)"
   ]
  },
  {
   "cell_type": "code",
   "execution_count": 65,
   "id": "da519a27",
   "metadata": {},
   "outputs": [
    {
     "data": {
      "text/plain": [
       "'Yg'"
      ]
     },
     "execution_count": 65,
     "metadata": {},
     "output_type": "execute_result"
    }
   ],
   "source": [
    "#(13)max tells you the largest element on your list\n",
    "\n",
    "max(artists2)\n"
   ]
  },
  {
   "cell_type": "code",
   "execution_count": 64,
   "id": "016e50a6",
   "metadata": {},
   "outputs": [
    {
     "data": {
      "text/plain": [
       "'Drake'"
      ]
     },
     "execution_count": 64,
     "metadata": {},
     "output_type": "execute_result"
    }
   ],
   "source": [
    "#min tells you the smallest element on your list\n",
    "\n",
    "min(artists2)"
   ]
  },
  {
   "cell_type": "code",
   "execution_count": null,
   "id": "8e448021",
   "metadata": {},
   "outputs": [],
   "source": [
    "#assignment3, Luke Jenkins, version1, Fall Semester"
   ]
  },
  {
   "cell_type": "code",
   "execution_count": null,
   "id": "5785dbf4",
   "metadata": {},
   "outputs": [],
   "source": []
  }
 ],
 "metadata": {
  "kernelspec": {
   "display_name": "Python 3 (ipykernel)",
   "language": "python",
   "name": "python3"
  },
  "language_info": {
   "codemirror_mode": {
    "name": "ipython",
    "version": 3
   },
   "file_extension": ".py",
   "mimetype": "text/x-python",
   "name": "python",
   "nbconvert_exporter": "python",
   "pygments_lexer": "ipython3",
   "version": "3.9.13"
  }
 },
 "nbformat": 4,
 "nbformat_minor": 5
}
